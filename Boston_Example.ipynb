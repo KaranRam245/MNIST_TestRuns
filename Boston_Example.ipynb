{
 "cells": [
  {
   "cell_type": "code",
   "execution_count": 94,
   "metadata": {},
   "outputs": [],
   "source": [
    "import tensorflow as tf\n",
    "from tensorflow import keras\n",
    "import matplotlib.pyplot as plt\n",
    "import numpy as np\n",
    "import pandas as pd\n",
    "%matplotlib inline"
   ]
  },
  {
   "cell_type": "code",
   "execution_count": 95,
   "metadata": {},
   "outputs": [],
   "source": [
    "dataset = keras.datasets.boston_housing"
   ]
  },
  {
   "cell_type": "code",
   "execution_count": 96,
   "metadata": {},
   "outputs": [],
   "source": [
    "(x_train,y_train), (x_test,y_test) = dataset.load_data()"
   ]
  },
  {
   "cell_type": "code",
   "execution_count": 97,
   "metadata": {},
   "outputs": [],
   "source": [
    "x_val,x_train,y_val,y_train=x_train[:50,:],x_train[50:,:],y_train[:50],y_train[50:]"
   ]
  },
  {
   "cell_type": "code",
   "execution_count": 98,
   "metadata": {},
   "outputs": [],
   "source": [
    "model=keras.models.Sequential()"
   ]
  },
  {
   "cell_type": "code",
   "execution_count": 99,
   "metadata": {},
   "outputs": [],
   "source": [
    "model.add(keras.layers.Dense(8,activation='relu',input_shape=[13,]))\n",
    "model.add(keras.layers.Dense(5,activation='relu'))\n",
    "model.add(keras.layers.Dense(1))\n"
   ]
  },
  {
   "cell_type": "code",
   "execution_count": 100,
   "metadata": {},
   "outputs": [],
   "source": [
    "model.compile(loss=keras.losses.MeanSquaredError(),metrics=['mse'],optimizer='adam')"
   ]
  },
  {
   "cell_type": "code",
   "execution_count": 101,
   "metadata": {},
   "outputs": [
    {
     "name": "stdout",
     "output_type": "stream",
     "text": [
      "Model: \"sequential_5\"\n",
      "_________________________________________________________________\n",
      "Layer (type)                 Output Shape              Param #   \n",
      "=================================================================\n",
      "dense_43 (Dense)             (None, 8)                 112       \n",
      "_________________________________________________________________\n",
      "dense_44 (Dense)             (None, 5)                 45        \n",
      "_________________________________________________________________\n",
      "dense_45 (Dense)             (None, 1)                 6         \n",
      "=================================================================\n",
      "Total params: 163\n",
      "Trainable params: 163\n",
      "Non-trainable params: 0\n",
      "_________________________________________________________________\n"
     ]
    }
   ],
   "source": [
    "model.summary()"
   ]
  },
  {
   "cell_type": "code",
   "execution_count": 102,
   "metadata": {},
   "outputs": [
    {
     "name": "stdout",
     "output_type": "stream",
     "text": [
      "Train on 354 samples, validate on 50 samples\n",
      "Epoch 1/100\n",
      "354/354 [==============================] - 0s 598us/sample - loss: 540.5929 - mse: 540.5929 - val_loss: 369.3221 - val_mse: 369.3221\n",
      "Epoch 2/100\n",
      "354/354 [==============================] - 0s 207us/sample - loss: 241.7533 - mse: 241.7533 - val_loss: 183.2692 - val_mse: 183.2692\n",
      "Epoch 3/100\n",
      "354/354 [==============================] - 0s 257us/sample - loss: 123.1949 - mse: 123.1949 - val_loss: 137.5508 - val_mse: 137.5508\n",
      "Epoch 4/100\n",
      "354/354 [==============================] - 0s 252us/sample - loss: 111.9576 - mse: 111.9576 - val_loss: 130.3035 - val_mse: 130.3035\n",
      "Epoch 5/100\n",
      "354/354 [==============================] - 0s 241us/sample - loss: 105.6526 - mse: 105.6526 - val_loss: 121.0590 - val_mse: 121.0590\n",
      "Epoch 6/100\n",
      "354/354 [==============================] - 0s 270us/sample - loss: 101.1596 - mse: 101.1596 - val_loss: 119.0971 - val_mse: 119.0971\n",
      "Epoch 7/100\n",
      "354/354 [==============================] - 0s 252us/sample - loss: 97.8426 - mse: 97.8426 - val_loss: 109.3969 - val_mse: 109.3969\n",
      "Epoch 8/100\n",
      "354/354 [==============================] - 0s 249us/sample - loss: 92.8788 - mse: 92.8788 - val_loss: 101.9295 - val_mse: 101.9296\n",
      "Epoch 9/100\n",
      "354/354 [==============================] - 0s 244us/sample - loss: 90.3783 - mse: 90.3783 - val_loss: 96.5219 - val_mse: 96.5219\n",
      "Epoch 10/100\n",
      "354/354 [==============================] - 0s 224us/sample - loss: 86.0959 - mse: 86.0959 - val_loss: 97.1649 - val_mse: 97.1649\n",
      "Epoch 11/100\n",
      "354/354 [==============================] - 0s 242us/sample - loss: 83.6324 - mse: 83.6324 - val_loss: 89.7557 - val_mse: 89.7557\n",
      "Epoch 12/100\n",
      "354/354 [==============================] - 0s 232us/sample - loss: 81.9822 - mse: 81.9822 - val_loss: 88.3347 - val_mse: 88.3347\n",
      "Epoch 13/100\n",
      "354/354 [==============================] - 0s 222us/sample - loss: 78.0881 - mse: 78.0881 - val_loss: 85.8471 - val_mse: 85.8471\n",
      "Epoch 14/100\n",
      "354/354 [==============================] - 0s 246us/sample - loss: 75.6907 - mse: 75.6906 - val_loss: 80.8008 - val_mse: 80.8008\n",
      "Epoch 15/100\n",
      "354/354 [==============================] - 0s 274us/sample - loss: 72.8662 - mse: 72.8662 - val_loss: 76.8287 - val_mse: 76.8287\n",
      "Epoch 16/100\n",
      "354/354 [==============================] - 0s 236us/sample - loss: 72.7175 - mse: 72.7175 - val_loss: 74.2028 - val_mse: 74.2028\n",
      "Epoch 17/100\n",
      "354/354 [==============================] - 0s 263us/sample - loss: 68.6638 - mse: 68.6638 - val_loss: 77.7319 - val_mse: 77.7319\n",
      "Epoch 18/100\n",
      "354/354 [==============================] - 0s 154us/sample - loss: 67.5563 - mse: 67.5563 - val_loss: 70.8809 - val_mse: 70.8809\n",
      "Epoch 19/100\n",
      "354/354 [==============================] - 0s 231us/sample - loss: 65.9036 - mse: 65.9036 - val_loss: 72.0311 - val_mse: 72.0311\n",
      "Epoch 20/100\n",
      "354/354 [==============================] - 0s 354us/sample - loss: 64.5531 - mse: 64.5531 - val_loss: 77.5883 - val_mse: 77.5883\n",
      "Epoch 21/100\n",
      "354/354 [==============================] - 0s 242us/sample - loss: 62.8629 - mse: 62.8629 - val_loss: 63.4235 - val_mse: 63.4235\n",
      "Epoch 22/100\n",
      "354/354 [==============================] - 0s 257us/sample - loss: 60.6624 - mse: 60.6624 - val_loss: 60.3006 - val_mse: 60.3006\n",
      "Epoch 23/100\n",
      "354/354 [==============================] - 0s 225us/sample - loss: 55.7723 - mse: 55.7723 - val_loss: 58.8087 - val_mse: 58.8087\n",
      "Epoch 24/100\n",
      "354/354 [==============================] - 0s 234us/sample - loss: 53.4584 - mse: 53.4584 - val_loss: 54.0376 - val_mse: 54.0376\n",
      "Epoch 25/100\n",
      "354/354 [==============================] - 0s 214us/sample - loss: 51.7895 - mse: 51.7895 - val_loss: 57.1507 - val_mse: 57.1507\n",
      "Epoch 26/100\n",
      "354/354 [==============================] - 0s 251us/sample - loss: 54.7088 - mse: 54.7088 - val_loss: 57.5156 - val_mse: 57.5156\n",
      "Epoch 27/100\n",
      "354/354 [==============================] - 0s 209us/sample - loss: 50.2015 - mse: 50.2015 - val_loss: 53.0706 - val_mse: 53.0706\n",
      "Epoch 28/100\n",
      "354/354 [==============================] - 0s 242us/sample - loss: 48.9076 - mse: 48.9076 - val_loss: 51.2145 - val_mse: 51.2145\n",
      "Epoch 29/100\n",
      "354/354 [==============================] - 0s 314us/sample - loss: 48.6570 - mse: 48.6570 - val_loss: 51.5854 - val_mse: 51.5854\n",
      "Epoch 30/100\n",
      "354/354 [==============================] - 0s 336us/sample - loss: 47.3684 - mse: 47.3684 - val_loss: 49.6563 - val_mse: 49.6563\n",
      "Epoch 31/100\n",
      "354/354 [==============================] - 0s 297us/sample - loss: 47.1996 - mse: 47.1996 - val_loss: 50.1948 - val_mse: 50.1948\n",
      "Epoch 32/100\n",
      "354/354 [==============================] - 0s 156us/sample - loss: 46.5196 - mse: 46.5196 - val_loss: 50.2537 - val_mse: 50.2537\n",
      "Epoch 33/100\n",
      "354/354 [==============================] - 0s 226us/sample - loss: 45.8074 - mse: 45.8074 - val_loss: 51.1948 - val_mse: 51.1948\n",
      "Epoch 34/100\n",
      "354/354 [==============================] - 0s 239us/sample - loss: 45.3891 - mse: 45.3891 - val_loss: 48.3571 - val_mse: 48.3571\n",
      "Epoch 35/100\n",
      "354/354 [==============================] - 0s 347us/sample - loss: 44.3242 - mse: 44.3242 - val_loss: 47.5668 - val_mse: 47.5668\n",
      "Epoch 36/100\n",
      "354/354 [==============================] - 0s 280us/sample - loss: 44.6277 - mse: 44.6277 - val_loss: 48.6177 - val_mse: 48.6177\n",
      "Epoch 37/100\n",
      "354/354 [==============================] - 0s 153us/sample - loss: 43.9796 - mse: 43.9796 - val_loss: 47.7611 - val_mse: 47.7611\n",
      "Epoch 38/100\n",
      "354/354 [==============================] - 0s 221us/sample - loss: 43.2485 - mse: 43.2485 - val_loss: 46.5038 - val_mse: 46.5038\n",
      "Epoch 39/100\n",
      "354/354 [==============================] - 0s 169us/sample - loss: 43.9287 - mse: 43.9287 - val_loss: 46.6459 - val_mse: 46.6459\n",
      "Epoch 40/100\n",
      "354/354 [==============================] - 0s 233us/sample - loss: 43.6855 - mse: 43.6855 - val_loss: 47.1466 - val_mse: 47.1466\n",
      "Epoch 41/100\n",
      "354/354 [==============================] - 0s 328us/sample - loss: 43.1693 - mse: 43.1693 - val_loss: 45.7969 - val_mse: 45.7969\n",
      "Epoch 42/100\n",
      "354/354 [==============================] - 0s 309us/sample - loss: 42.1363 - mse: 42.1363 - val_loss: 54.2632 - val_mse: 54.2632\n",
      "Epoch 43/100\n",
      "354/354 [==============================] - 0s 183us/sample - loss: 42.1528 - mse: 42.1528 - val_loss: 50.0893 - val_mse: 50.0893\n",
      "Epoch 44/100\n",
      "354/354 [==============================] - 0s 232us/sample - loss: 43.1856 - mse: 43.1856 - val_loss: 46.4068 - val_mse: 46.4068\n",
      "Epoch 45/100\n",
      "354/354 [==============================] - 0s 304us/sample - loss: 42.2712 - mse: 42.2712 - val_loss: 50.0771 - val_mse: 50.0771\n",
      "Epoch 46/100\n",
      "354/354 [==============================] - 0s 205us/sample - loss: 41.1435 - mse: 41.1435 - val_loss: 45.3197 - val_mse: 45.3197\n",
      "Epoch 47/100\n",
      "354/354 [==============================] - 0s 222us/sample - loss: 40.3359 - mse: 40.3359 - val_loss: 46.0739 - val_mse: 46.0739\n",
      "Epoch 48/100\n",
      "354/354 [==============================] - 0s 190us/sample - loss: 40.4392 - mse: 40.4392 - val_loss: 47.5169 - val_mse: 47.5169\n",
      "Epoch 49/100\n",
      "354/354 [==============================] - 0s 251us/sample - loss: 40.5039 - mse: 40.5039 - val_loss: 46.5915 - val_mse: 46.5915\n",
      "Epoch 50/100\n",
      "354/354 [==============================] - 0s 158us/sample - loss: 40.9119 - mse: 40.9119 - val_loss: 45.5544 - val_mse: 45.5544\n",
      "Epoch 51/100\n",
      "354/354 [==============================] - 0s 206us/sample - loss: 40.4142 - mse: 40.4142 - val_loss: 44.9829 - val_mse: 44.9829\n",
      "Epoch 52/100\n",
      "354/354 [==============================] - 0s 203us/sample - loss: 39.8900 - mse: 39.8900 - val_loss: 45.4073 - val_mse: 45.4073\n",
      "Epoch 53/100\n",
      "354/354 [==============================] - 0s 185us/sample - loss: 39.0038 - mse: 39.0038 - val_loss: 48.7831 - val_mse: 48.7831\n",
      "Epoch 54/100\n",
      "354/354 [==============================] - 0s 215us/sample - loss: 39.0980 - mse: 39.0980 - val_loss: 49.3696 - val_mse: 49.3696\n",
      "Epoch 55/100\n",
      "354/354 [==============================] - 0s 251us/sample - loss: 39.1053 - mse: 39.1053 - val_loss: 51.3028 - val_mse: 51.3028\n",
      "Epoch 56/100\n",
      "354/354 [==============================] - 0s 229us/sample - loss: 39.5891 - mse: 39.5891 - val_loss: 44.9569 - val_mse: 44.9569\n",
      "Epoch 57/100\n",
      "354/354 [==============================] - 0s 196us/sample - loss: 38.2995 - mse: 38.2995 - val_loss: 45.6032 - val_mse: 45.6032\n",
      "Epoch 58/100\n"
     ]
    },
    {
     "name": "stdout",
     "output_type": "stream",
     "text": [
      "354/354 [==============================] - 0s 239us/sample - loss: 38.4173 - mse: 38.4173 - val_loss: 43.8296 - val_mse: 43.8296\n",
      "Epoch 59/100\n",
      "354/354 [==============================] - 0s 240us/sample - loss: 37.3146 - mse: 37.3146 - val_loss: 47.2071 - val_mse: 47.2071\n",
      "Epoch 60/100\n",
      "354/354 [==============================] - 0s 176us/sample - loss: 37.8098 - mse: 37.8098 - val_loss: 44.4573 - val_mse: 44.4573\n",
      "Epoch 61/100\n",
      "354/354 [==============================] - 0s 201us/sample - loss: 38.6912 - mse: 38.6912 - val_loss: 49.6384 - val_mse: 49.6384\n",
      "Epoch 62/100\n",
      "354/354 [==============================] - 0s 163us/sample - loss: 38.2988 - mse: 38.2988 - val_loss: 50.1262 - val_mse: 50.1262\n",
      "Epoch 63/100\n",
      "354/354 [==============================] - 0s 191us/sample - loss: 36.8875 - mse: 36.8875 - val_loss: 49.1525 - val_mse: 49.1525\n",
      "Epoch 64/100\n",
      "354/354 [==============================] - 0s 205us/sample - loss: 38.1222 - mse: 38.1222 - val_loss: 43.9095 - val_mse: 43.9095\n",
      "Epoch 65/100\n",
      "354/354 [==============================] - 0s 175us/sample - loss: 38.0438 - mse: 38.0438 - val_loss: 43.9623 - val_mse: 43.9623\n",
      "Epoch 66/100\n",
      "354/354 [==============================] - 0s 155us/sample - loss: 37.4088 - mse: 37.4088 - val_loss: 47.7947 - val_mse: 47.7947\n",
      "Epoch 67/100\n",
      "354/354 [==============================] - 0s 148us/sample - loss: 37.0980 - mse: 37.0980 - val_loss: 43.9697 - val_mse: 43.9697\n",
      "Epoch 68/100\n",
      "354/354 [==============================] - 0s 284us/sample - loss: 35.8134 - mse: 35.8134 - val_loss: 42.6422 - val_mse: 42.6422\n",
      "Epoch 69/100\n",
      "354/354 [==============================] - 0s 177us/sample - loss: 37.1686 - mse: 37.1686 - val_loss: 46.1868 - val_mse: 46.1868\n",
      "Epoch 70/100\n",
      "354/354 [==============================] - 0s 215us/sample - loss: 37.0210 - mse: 37.0210 - val_loss: 42.5640 - val_mse: 42.5640\n",
      "Epoch 71/100\n",
      "354/354 [==============================] - 0s 192us/sample - loss: 36.5276 - mse: 36.5276 - val_loss: 47.8816 - val_mse: 47.8816\n",
      "Epoch 72/100\n",
      "354/354 [==============================] - 0s 158us/sample - loss: 35.7107 - mse: 35.7107 - val_loss: 46.5868 - val_mse: 46.5868\n",
      "Epoch 73/100\n",
      "354/354 [==============================] - 0s 191us/sample - loss: 36.5886 - mse: 36.5886 - val_loss: 42.2348 - val_mse: 42.2348\n",
      "Epoch 74/100\n",
      "354/354 [==============================] - 0s 191us/sample - loss: 37.1249 - mse: 37.1249 - val_loss: 44.0623 - val_mse: 44.0623\n",
      "Epoch 75/100\n",
      "354/354 [==============================] - 0s 159us/sample - loss: 35.6184 - mse: 35.6184 - val_loss: 42.7494 - val_mse: 42.7494\n",
      "Epoch 76/100\n",
      "354/354 [==============================] - 0s 169us/sample - loss: 36.7978 - mse: 36.7978 - val_loss: 42.8722 - val_mse: 42.8722\n",
      "Epoch 77/100\n",
      "354/354 [==============================] - 0s 209us/sample - loss: 34.8793 - mse: 34.8793 - val_loss: 43.3360 - val_mse: 43.3360\n",
      "Epoch 78/100\n",
      "354/354 [==============================] - 0s 180us/sample - loss: 36.3276 - mse: 36.3276 - val_loss: 44.1696 - val_mse: 44.1696\n",
      "Epoch 79/100\n",
      "354/354 [==============================] - 0s 159us/sample - loss: 35.6667 - mse: 35.6667 - val_loss: 41.6810 - val_mse: 41.6810\n",
      "Epoch 80/100\n",
      "354/354 [==============================] - 0s 136us/sample - loss: 35.6588 - mse: 35.6588 - val_loss: 43.8986 - val_mse: 43.8986\n",
      "Epoch 81/100\n",
      "354/354 [==============================] - 0s 178us/sample - loss: 34.2429 - mse: 34.2429 - val_loss: 54.8377 - val_mse: 54.8377\n",
      "Epoch 82/100\n",
      "354/354 [==============================] - 0s 155us/sample - loss: 36.9950 - mse: 36.9950 - val_loss: 42.3401 - val_mse: 42.3401\n",
      "Epoch 83/100\n",
      "354/354 [==============================] - 0s 173us/sample - loss: 35.1773 - mse: 35.1773 - val_loss: 42.7805 - val_mse: 42.7805\n",
      "Epoch 84/100\n",
      "354/354 [==============================] - 0s 190us/sample - loss: 34.4413 - mse: 34.4413 - val_loss: 42.2287 - val_mse: 42.2287\n",
      "Epoch 85/100\n",
      "354/354 [==============================] - 0s 213us/sample - loss: 34.5099 - mse: 34.5099 - val_loss: 43.5251 - val_mse: 43.5251\n",
      "Epoch 86/100\n",
      "354/354 [==============================] - 0s 205us/sample - loss: 34.4238 - mse: 34.4238 - val_loss: 42.9403 - val_mse: 42.9403\n",
      "Epoch 87/100\n",
      "354/354 [==============================] - 0s 195us/sample - loss: 33.9736 - mse: 33.9736 - val_loss: 44.2236 - val_mse: 44.2236\n",
      "Epoch 88/100\n",
      "354/354 [==============================] - 0s 156us/sample - loss: 34.0808 - mse: 34.0808 - val_loss: 43.1476 - val_mse: 43.1476\n",
      "Epoch 89/100\n",
      "354/354 [==============================] - 0s 135us/sample - loss: 34.1328 - mse: 34.1328 - val_loss: 43.2863 - val_mse: 43.2863\n",
      "Epoch 90/100\n",
      "354/354 [==============================] - 0s 136us/sample - loss: 33.6462 - mse: 33.6461 - val_loss: 44.5803 - val_mse: 44.5803\n",
      "Epoch 91/100\n",
      "354/354 [==============================] - 0s 140us/sample - loss: 33.7594 - mse: 33.7594 - val_loss: 41.6019 - val_mse: 41.6019\n",
      "Epoch 92/100\n",
      "354/354 [==============================] - 0s 174us/sample - loss: 35.3186 - mse: 35.3186 - val_loss: 43.4909 - val_mse: 43.4909\n",
      "Epoch 93/100\n",
      "354/354 [==============================] - 0s 159us/sample - loss: 34.0034 - mse: 34.0034 - val_loss: 40.8196 - val_mse: 40.8196\n",
      "Epoch 94/100\n",
      "354/354 [==============================] - 0s 186us/sample - loss: 34.1582 - mse: 34.1582 - val_loss: 42.8446 - val_mse: 42.8446\n",
      "Epoch 95/100\n",
      "354/354 [==============================] - 0s 209us/sample - loss: 33.7477 - mse: 33.7477 - val_loss: 45.5570 - val_mse: 45.5570\n",
      "Epoch 96/100\n",
      "354/354 [==============================] - 0s 172us/sample - loss: 35.2243 - mse: 35.2243 - val_loss: 42.6171 - val_mse: 42.6171\n",
      "Epoch 97/100\n",
      "354/354 [==============================] - 0s 174us/sample - loss: 33.4942 - mse: 33.4942 - val_loss: 42.5478 - val_mse: 42.5478\n",
      "Epoch 98/100\n",
      "354/354 [==============================] - 0s 164us/sample - loss: 34.5070 - mse: 34.5070 - val_loss: 49.7317 - val_mse: 49.7317\n",
      "Epoch 99/100\n",
      "354/354 [==============================] - 0s 169us/sample - loss: 33.3260 - mse: 33.3260 - val_loss: 42.2116 - val_mse: 42.2116\n",
      "Epoch 100/100\n",
      "354/354 [==============================] - 0s 181us/sample - loss: 34.2912 - mse: 34.2912 - val_loss: 41.3405 - val_mse: 41.3405\n"
     ]
    }
   ],
   "source": [
    "history=model.fit(x=x_train,y=y_train,epochs=100,batch_size=10,validation_data=(x_val,y_val))"
   ]
  },
  {
   "cell_type": "code",
   "execution_count": 104,
   "metadata": {},
   "outputs": [
    {
     "data": {
      "image/png": "[encoded data removed]",
      "text/plain": [
       "<matplotlib.figure.Figure at 0x7f9980333978>"
      ]
     },
     "metadata": {
      "needs_background": "light"
     },
     "output_type": "display_data"
    }
   ],
   "source": [
    "pd.DataFrame(history.history).plot(figsize=(8, 5))\n",
    "plt.grid(True)\n",
    "plt.show()"
   ]
  },
  {
   "cell_type": "code",
   "execution_count": 110,
   "metadata": {},
   "outputs": [
    {
     "data": {
      "text/plain": [
       "<tf.Tensor: id=774426, shape=(8,), dtype=float32, numpy=\n",
       "array([-0.01905468,  0.18888386, -0.12480316,  1.322302  ,  0.52538973,\n",
       "       -0.3524925 ,  0.00541848,  0.7730922 ], dtype=float32)>"
      ]
     },
     "execution_count": 110,
     "metadata": {},
     "output_type": "execute_result"
    }
   ],
   "source": []
  },
  {
   "cell_type": "code",
   "execution_count": null,
   "metadata": {},
   "outputs": [],
   "source": []
  },
  {
   "cell_type": "code",
   "execution_count": null,
   "metadata": {},
   "outputs": [],
   "source": []
  }
 ],
 "metadata": {
  "kernelspec": {
   "display_name": "Python 3",
   "language": "python",
   "name": "python3"
  },
  "language_info": {
   "codemirror_mode": {
    "name": "ipython",
    "version": 3
   },
   "file_extension": ".py",
   "mimetype": "text/x-python",
   "name": "python",
   "nbconvert_exporter": "python",
   "pygments_lexer": "ipython3",
   "version": "3.6.7"
  }
 },
 "nbformat": 4,
 "nbformat_minor": 2
}
