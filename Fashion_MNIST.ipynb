{
 "cells": [
  {
   "cell_type": "markdown",
   "metadata": {},
   "source": [
    "# Example model in Tensorflow v2 with Keras API\n",
    "\n",
    "Within this example the main library within tensorflow will be demonstrated. Keras is high-level API for ML/DL. Most of the time it will be the only sublibrary required during projects. For this example the Fashion MNIST dataset will be used. A classic, all too well known dataset. "
   ]
  },
  {
   "cell_type": "code",
   "execution_count": 1,
   "metadata": {},
   "outputs": [
    {
     "name": "stderr",
     "output_type": "stream",
     "text": [
      "/usr/lib/python3/dist-packages/h5py/__init__.py:36: FutureWarning: Conversion of the second argument of issubdtype from `float` to `np.floating` is deprecated. In future, it will be treated as `np.float64 == np.dtype(float).type`.\n",
      "  from ._conv import register_converters as _register_converters\n"
     ]
    }
   ],
   "source": [
    "import tensorflow as tf\n",
    "from tensorflow import keras\n",
    "import numpy as np\n",
    "import pandas as pd\n",
    "import matplotlib.pyplot as plt"
   ]
  },
  {
   "cell_type": "markdown",
   "metadata": {},
   "source": [
    "## Data Preprocessing"
   ]
  },
  {
   "cell_type": "code",
   "execution_count": 15,
   "metadata": {},
   "outputs": [],
   "source": [
    "fashion_mnist=keras.datasets.fashion_mnist\n",
    "(x_train,y_train),(x_test,y_test)=fashion_mnist.load_data()"
   ]
  },
  {
   "cell_type": "code",
   "execution_count": 16,
   "metadata": {},
   "outputs": [],
   "source": [
    "x_val,x_train=x_train[:5000]/255.0,x_train[5000:]/255.0\n",
    "y_val,y_train=y_train[:5000],y_train[5000:]"
   ]
  },
  {
   "cell_type": "code",
   "execution_count": 17,
   "metadata": {},
   "outputs": [],
   "source": [
    "class_names=[\"T-shirt/top\", \"Trouser\", \"Pullover\", \"Dress\", \"Coat\",\n",
    "               \"Sandal\", \"Shirt\", \"Sneaker\", \"Bag\", \"Ankle boot\"]"
   ]
  },
  {
   "cell_type": "markdown",
   "metadata": {},
   "source": [
    "## Sequential Keras API"
   ]
  },
  {
   "cell_type": "code",
   "execution_count": 7,
   "metadata": {},
   "outputs": [],
   "source": [
    "model=keras.Sequential()"
   ]
  },
  {
   "cell_type": "code",
   "execution_count": 9,
   "metadata": {},
   "outputs": [],
   "source": [
    "model.add(keras.layers.Flatten(input_shape=[28,28]))\n",
    "model.add(keras.layers.Dense(300,activation='relu'))\n",
    "model.add(keras.layers.Dense(150,activation='relu'))\n",
    "model.add(keras.layers.Dense(75,activation='relu'))\n",
    "model.add(keras.layers.Dense(10,activation='softmax'))"
   ]
  },
  {
   "cell_type": "code",
   "execution_count": 17,
   "metadata": {},
   "outputs": [],
   "source": [
    "model.compile(keras.optimizers.Adam(learning_rate=0.0001),\n",
    "              loss=keras.losses.sparse_categorical_crossentropy,metrics=['accuracy'])"
   ]
  },
  {
   "cell_type": "code",
   "execution_count": 18,
   "metadata": {},
   "outputs": [
    {
     "name": "stdout",
     "output_type": "stream",
     "text": [
      "Train on 55000 samples, validate on 5000 samples\n",
      "Epoch 1/10\n",
      "55000/55000 [==============================] - 7s 121us/sample - loss: 0.6138 - accuracy: 0.7963 - val_loss: 0.4439 - val_accuracy: 0.8502\n",
      "Epoch 2/10\n",
      "55000/55000 [==============================] - 6s 116us/sample - loss: 0.4112 - accuracy: 0.8550 - val_loss: 0.3867 - val_accuracy: 0.8666\n",
      "Epoch 3/10\n",
      "55000/55000 [==============================] - 7s 119us/sample - loss: 0.3690 - accuracy: 0.8688 - val_loss: 0.3516 - val_accuracy: 0.8742\n",
      "Epoch 4/10\n",
      "55000/55000 [==============================] - 7s 119us/sample - loss: 0.3435 - accuracy: 0.8762 - val_loss: 0.3572 - val_accuracy: 0.8732\n",
      "Epoch 5/10\n",
      "55000/55000 [==============================] - 7s 121us/sample - loss: 0.3234 - accuracy: 0.8833 - val_loss: 0.3309 - val_accuracy: 0.8826\n",
      "Epoch 6/10\n",
      "55000/55000 [==============================] - 7s 124us/sample - loss: 0.3061 - accuracy: 0.8890 - val_loss: 0.3273 - val_accuracy: 0.8790\n",
      "Epoch 7/10\n",
      "55000/55000 [==============================] - 7s 126us/sample - loss: 0.2919 - accuracy: 0.8941 - val_loss: 0.3148 - val_accuracy: 0.8866\n",
      "Epoch 8/10\n",
      "55000/55000 [==============================] - 7s 132us/sample - loss: 0.2799 - accuracy: 0.8995 - val_loss: 0.3302 - val_accuracy: 0.8826\n",
      "Epoch 9/10\n",
      "55000/55000 [==============================] - 7s 130us/sample - loss: 0.2706 - accuracy: 0.9006 - val_loss: 0.3027 - val_accuracy: 0.8902\n",
      "Epoch 10/10\n",
      "55000/55000 [==============================] - 7s 130us/sample - loss: 0.2584 - accuracy: 0.9052 - val_loss: 0.3153 - val_accuracy: 0.8844\n"
     ]
    }
   ],
   "source": [
    "history=model.fit(x=x_train,y=y_train,batch_size=32,epochs=10,validation_data=(x_val,y_val))"
   ]
  },
  {
   "cell_type": "markdown",
   "metadata": {},
   "source": [
    "## Functional Keras API"
   ]
  },
  {
   "cell_type": "code",
   "execution_count": 11,
   "metadata": {},
   "outputs": [],
   "source": [
    "input_layer=keras.layers.Input(shape=[None,28,28])\n",
    "conv_1=keras.layers.Conv2D(14,kernel_size=(2,2),activation='relu',padding='SAME')(input_layer)\n",
    "conv_2=keras.layers.Conv2D(14,kernel_size=(5,5),activation='relu',padding='SAME')(input_layer)\n",
    "concat=keras.layers.Concatenate()([conv_1,conv_2])\n",
    "output=keras.layers.Dense(10,activation='softmax')(concat)\n",
    "functional_model=keras.models.Model(inputs=[input_layer],outputs=[output])"
   ]
  },
  {
   "cell_type": "markdown",
   "metadata": {},
   "source": [
    "## Evaluate model performance"
   ]
  },
  {
   "cell_type": "code",
   "execution_count": 20,
   "metadata": {},
   "outputs": [
    {
     "data": {
      "image/png": "[encoded data removed]",
      "text/plain": [
       "<matplotlib.figure.Figure at 0x7fa68d33a470>"
      ]
     },
     "metadata": {
      "needs_background": "light"
     },
     "output_type": "display_data"
    }
   ],
   "source": [
    "pd.DataFrame(history.history).plot(figsize=(8, 5))\n",
    "plt.grid(True)\n",
    "plt.gca().set_ylim(0, 1) # set the vertical range to [0-1]\n",
    "plt.show()"
   ]
  },
  {
   "cell_type": "code",
   "execution_count": null,
   "metadata": {},
   "outputs": [],
   "source": []
  }
 ],
 "metadata": {
  "kernelspec": {
   "display_name": "Python 3",
   "language": "python",
   "name": "python3"
  },
  "language_info": {
   "codemirror_mode": {
    "name": "ipython",
    "version": 3
   },
   "file_extension": ".py",
   "mimetype": "text/x-python",
   "name": "python",
   "nbconvert_exporter": "python",
   "pygments_lexer": "ipython3",
   "version": "3.6.7"
  }
 },
 "nbformat": 4,
 "nbformat_minor": 2
}
