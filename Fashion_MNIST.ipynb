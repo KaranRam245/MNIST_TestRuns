{
 "cells": [
  {
   "cell_type": "markdown",
   "metadata": {},
   "source": [
    "# Example model in Tensorflow v2 with Keras API\n",
    "\n",
    "Within this example the main library within tensorflow will be demonstrated. Keras is high-level API for ML/DL. Most of the time it will be the only sublibrary required during projects. For this example the Fashion MNIST dataset will be used. A classic, all too well known dataset. "
   ]
  },
  {
   "cell_type": "code",
   "execution_count": 22,
   "metadata": {},
   "outputs": [],
   "source": [
    "import tensorflow\n",
    "from tensorflow import keras\n",
    "import numpy as np\n",
    "import pandas as pd\n",
    "import matplotlib.pyplot as plt\n"
   ]
  },
  {
   "cell_type": "code",
   "execution_count": null,
   "metadata": {},
   "outputs": [],
   "source": []
  },
  {
   "cell_type": "code",
   "execution_count": null,
   "metadata": {},
   "outputs": [],
   "source": []
  },
  {
   "cell_type": "markdown",
   "metadata": {},
   "source": [
    "## Data Preprocessing"
   ]
  },
  {
   "cell_type": "code",
   "execution_count": 12,
   "metadata": {},
   "outputs": [],
   "source": [
    "fashion_mnist=keras.datasets.fashion_mnist\n",
    "(x_train,y_train),(x_test,y_test)=fashion_mnist.load_data()"
   ]
  },
  {
   "cell_type": "code",
   "execution_count": null,
   "metadata": {},
   "outputs": [],
   "source": []
  },
  {
   "cell_type": "code",
   "execution_count": 13,
   "metadata": {},
   "outputs": [],
   "source": [
    "x_val,x_train=x_train[:5000]/255.0,x_train[5000:]/255.0\n",
    "y_val,y_train=y_train[:5000],y_train[5000:]"
   ]
  },
  {
   "cell_type": "code",
   "execution_count": 14,
   "metadata": {},
   "outputs": [],
   "source": [
    "class_names=[\"T-shirt/top\", \"Trouser\", \"Pullover\", \"Dress\", \"Coat\",\n",
    "               \"Sandal\", \"Shirt\", \"Sneaker\", \"Bag\", \"Ankle boot\"]"
   ]
  },
  {
   "cell_type": "markdown",
   "metadata": {},
   "source": [
    "## Sequential Keras API"
   ]
  },
  {
   "cell_type": "code",
   "execution_count": 16,
   "metadata": {},
   "outputs": [],
   "source": [
    "model=keras.Sequential()"
   ]
  },
  {
   "cell_type": "code",
   "execution_count": 17,
   "metadata": {},
   "outputs": [],
   "source": [
    "model.add(keras.layers.Flatten(input_shape=[28,28]))\n",
    "model.add(keras.layers.Dense(300,activation='relu'))\n",
    "model.add(keras.layers.Dense(150,activation='relu'))\n",
    "model.add(keras.layers.Dense(75,activation='relu'))\n",
    "model.add(keras.layers.Dense(10,activation='softmax'))"
   ]
  },
  {
   "cell_type": "code",
   "execution_count": 18,
   "metadata": {},
   "outputs": [],
   "source": [
    "model.compile(keras.optimizers.Adam(learning_rate=0.0001),\n",
    "              loss=keras.losses.sparse_categorical_crossentropy,metrics=['accuracy'])"
   ]
  },
  {
   "cell_type": "code",
   "execution_count": 19,
   "metadata": {},
   "outputs": [
    {
     "name": "stdout",
     "output_type": "stream",
     "text": [
      "Train on 55000 samples, validate on 5000 samples\n",
      "Epoch 1/10\n",
      "55000/55000 [==============================] - 8s 146us/sample - loss: 0.6027 - accuracy: 0.7984 - val_loss: 0.4308 - val_accuracy: 0.8546\n",
      "Epoch 2/10\n",
      "55000/55000 [==============================] - 7s 130us/sample - loss: 0.4106 - accuracy: 0.8561 - val_loss: 0.3998 - val_accuracy: 0.8586\n",
      "Epoch 3/10\n",
      "55000/55000 [==============================] - 7s 133us/sample - loss: 0.3672 - accuracy: 0.8694 - val_loss: 0.3475 - val_accuracy: 0.8782\n",
      "Epoch 4/10\n",
      "55000/55000 [==============================] - 8s 144us/sample - loss: 0.3404 - accuracy: 0.8783 - val_loss: 0.3572 - val_accuracy: 0.8724\n",
      "Epoch 5/10\n",
      "55000/55000 [==============================] - 7s 135us/sample - loss: 0.3195 - accuracy: 0.8859 - val_loss: 0.3321 - val_accuracy: 0.8832\n",
      "Epoch 6/10\n",
      "55000/55000 [==============================] - 7s 132us/sample - loss: 0.3045 - accuracy: 0.8897 - val_loss: 0.3175 - val_accuracy: 0.8824\n",
      "Epoch 7/10\n",
      "55000/55000 [==============================] - 8s 139us/sample - loss: 0.2887 - accuracy: 0.8947 - val_loss: 0.3152 - val_accuracy: 0.8864\n",
      "Epoch 8/10\n",
      "55000/55000 [==============================] - 8s 139us/sample - loss: 0.2782 - accuracy: 0.8996 - val_loss: 0.3157 - val_accuracy: 0.8854\n",
      "Epoch 9/10\n",
      "55000/55000 [==============================] - 7s 136us/sample - loss: 0.2670 - accuracy: 0.9018 - val_loss: 0.3044 - val_accuracy: 0.8918\n",
      "Epoch 10/10\n",
      "55000/55000 [==============================] - 8s 144us/sample - loss: 0.2559 - accuracy: 0.9060 - val_loss: 0.3053 - val_accuracy: 0.8876\n"
     ]
    }
   ],
   "source": [
    "history=model.fit(x=x_train,y=y_train,batch_size=32,epochs=10,validation_data=(x_val,y_val))"
   ]
  },
  {
   "cell_type": "markdown",
   "metadata": {},
   "source": [
    "## Functional Keras API"
   ]
  },
  {
   "cell_type": "code",
   "execution_count": 11,
   "metadata": {},
   "outputs": [],
   "source": [
    "input_layer=keras.layers.Input(shape=[None,28,28])\n",
    "conv_1=keras.layers.Conv2D(14,kernel_size=(2,2),activation='relu',padding='SAME')(input_layer)\n",
    "conv_2=keras.layers.Conv2D(14,kernel_size=(5,5),activation='relu',padding='SAME')(input_layer)\n",
    "concat=keras.layers.Concatenate()([conv_1,conv_2])\n",
    "output=keras.layers.Dense(10,activation='softmax')(concat)\n",
    "functional_model=keras.models.Model(inputs=[input_layer],outputs=[output])"
   ]
  },
  {
   "cell_type": "markdown",
   "metadata": {},
   "source": [
    "## Evaluate model performance"
   ]
  },
  {
   "cell_type": "code",
   "execution_count": 20,
   "metadata": {},
   "outputs": [
    {
     "data": {
      "image/png": "[encoded data removed]",
      "text/plain": [
       "<matplotlib.figure.Figure at 0x7f5fa42582e8>"
      ]
     },
     "metadata": {
      "needs_background": "light"
     },
     "output_type": "display_data"
    }
   ],
   "source": [
    "pd.DataFrame(history.history).plot(figsize=(8, 5))\n",
    "plt.grid(True)\n",
    "plt.gca().set_ylim(0, 1) # set the vertical range to [0-1]\n",
    "plt.show()"
   ]
  },
  {
   "cell_type": "code",
   "execution_count": null,
   "metadata": {},
   "outputs": [],
   "source": []
  }
 ],
 "metadata": {
  "kernelspec": {
   "display_name": "Python 3",
   "language": "python",
   "name": "python3"
  },
  "language_info": {
   "codemirror_mode": {
    "name": "ipython",
    "version": 3
   },
   "file_extension": ".py",
   "mimetype": "text/x-python",
   "name": "python",
   "nbconvert_exporter": "python",
   "pygments_lexer": "ipython3",
   "version": "3.6.7"
  }
 },
 "nbformat": 4,
 "nbformat_minor": 2
}
