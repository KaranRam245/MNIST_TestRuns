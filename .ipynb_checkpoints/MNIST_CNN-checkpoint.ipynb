{
 "cells": [
  {
   "cell_type": "code",
   "execution_count": 68,
   "metadata": {},
   "outputs": [],
   "source": [
    "import tensorflow as tf \n",
    "import matplotlib.pyplot as plt\n",
    "import numpy as np\n",
    "from tensorflow.keras.utils import to_categorical\n",
    "%matplotlib inline\n",
    "from tensorflow.keras import backend as K"
   ]
  },
  {
   "cell_type": "markdown",
   "metadata": {},
   "source": [
    "# Data Gathering and Preprocessing"
   ]
  },
  {
   "cell_type": "code",
   "execution_count": 69,
   "metadata": {},
   "outputs": [],
   "source": [
    "(x_train, y_train),(x_test,y_test)=tf.keras.datasets.mnist.load_data()\n",
    "train_images = x_train.reshape((60000, 28, 28,1))\n",
    "train_images = train_images.astype('float32') / 255\n",
    "\n",
    "test_images = x_test.reshape((10000, 28,28,1))\n",
    "test_images = test_images.astype('float32') / 255\n",
    "\n",
    "trainlabels = to_categorical(y_train)\n",
    "testlabels = to_categorical(y_test)"
   ]
  },
  {
   "cell_type": "markdown",
   "metadata": {},
   "source": [
    "# Simple CNN"
   ]
  },
  {
   "cell_type": "code",
   "execution_count": 70,
   "metadata": {},
   "outputs": [],
   "source": [
    "network = tf.keras.models.Sequential()"
   ]
  },
  {
   "cell_type": "code",
   "execution_count": 71,
   "metadata": {},
   "outputs": [],
   "source": [
    "network.add(tf.keras.layers.Conv2D(32,kernel_size=(2,2),activation='relu',input_shape=(28,28,1)))\n",
    "network.add(tf.keras.layers.BatchNormalization())\n",
    "network.add(tf.keras.layers.MaxPool2D(2,2))\n",
    "network.add(tf.keras.layers.Flatten())\n",
    "network.add(tf.keras.layers.Dense(10,activation='softmax'))"
   ]
  },
  {
   "cell_type": "code",
   "execution_count": 72,
   "metadata": {},
   "outputs": [],
   "source": [
    "network.compile(optimizer=tf.keras.optimizers.Adam(learning_rate=0.0001),\n",
    "                loss='categorical_crossentropy',metrics=['accuracy'])"
   ]
  },
  {
   "cell_type": "code",
   "execution_count": 73,
   "metadata": {},
   "outputs": [
    {
     "name": "stdout",
     "output_type": "stream",
     "text": [
      "Epoch 1/10\n",
      "60000/60000 [==============================] - 45s 745us/sample - loss: 0.2387 - accuracy: 0.9315\n",
      "Epoch 2/10\n",
      "60000/60000 [==============================] - 46s 762us/sample - loss: 0.0951 - accuracy: 0.9724\n",
      "Epoch 3/10\n",
      "60000/60000 [==============================] - 46s 771us/sample - loss: 0.0707 - accuracy: 0.9789\n",
      "Epoch 4/10\n",
      "60000/60000 [==============================] - 47s 779us/sample - loss: 0.0593 - accuracy: 0.9827\n",
      "Epoch 5/10\n",
      "60000/60000 [==============================] - 50s 826us/sample - loss: 0.0505 - accuracy: 0.9847\n",
      "Epoch 6/10\n",
      "60000/60000 [==============================] - 49s 810us/sample - loss: 0.0440 - accuracy: 0.9870\n",
      "Epoch 7/10\n",
      "60000/60000 [==============================] - 49s 818us/sample - loss: 0.0397 - accuracy: 0.9880\n",
      "Epoch 8/10\n",
      "60000/60000 [==============================] - 46s 766us/sample - loss: 0.0351 - accuracy: 0.9897\n",
      "Epoch 9/10\n",
      "60000/60000 [==============================] - 40s 661us/sample - loss: 0.0319 - accuracy: 0.9906\n",
      "Epoch 10/10\n",
      "60000/60000 [==============================] - 40s 668us/sample - loss: 0.0283 - accuracy: 0.9915\n"
     ]
    },
    {
     "data": {
      "text/plain": [
       "<tensorflow.python.keras.callbacks.History at 0x7f57d6f2a630>"
      ]
     },
     "execution_count": 73,
     "metadata": {},
     "output_type": "execute_result"
    }
   ],
   "source": [
    "network.fit(train_images,trainlabels,epochs=10,batch_size=20)"
   ]
  },
  {
   "cell_type": "markdown",
   "metadata": {},
   "source": [
    "# Prediction "
   ]
  },
  {
   "cell_type": "code",
   "execution_count": 79,
   "metadata": {},
   "outputs": [
    {
     "data": {
      "text/plain": [
       "<matplotlib.image.AxesImage at 0x7f57ba180978>"
      ]
     },
     "execution_count": 79,
     "metadata": {},
     "output_type": "execute_result"
    },
    {
     "data": {
      "image/png": "[encoded data removed]",
      "text/plain": [
       "<matplotlib.figure.Figure at 0x7f57ba214c88>"
      ]
     },
     "metadata": {
      "needs_background": "light"
     },
     "output_type": "display_data"
    }
   ],
   "source": [
    "plt.imshow(test_images[3].reshape((28,28)))"
   ]
  },
  {
   "cell_type": "code",
   "execution_count": 80,
   "metadata": {},
   "outputs": [],
   "source": [
    "predictions=network.predict(test_images[3].reshape((1,28,28,1)))"
   ]
  },
  {
   "cell_type": "code",
   "execution_count": 81,
   "metadata": {},
   "outputs": [
    {
     "data": {
      "text/plain": [
       "0"
      ]
     },
     "execution_count": 81,
     "metadata": {},
     "output_type": "execute_result"
    }
   ],
   "source": [
    "np.argmax(predictions)"
   ]
  },
  {
   "cell_type": "code",
   "execution_count": null,
   "metadata": {},
   "outputs": [],
   "source": []
  }
 ],
 "metadata": {
  "kernelspec": {
   "display_name": "Python 3",
   "language": "python",
   "name": "python3"
  },
  "language_info": {
   "codemirror_mode": {
    "name": "ipython",
    "version": 3
   },
   "file_extension": ".py",
   "mimetype": "text/x-python",
   "name": "python",
   "nbconvert_exporter": "python",
   "pygments_lexer": "ipython3",
   "version": "3.6.7"
  }
 },
 "nbformat": 4,
 "nbformat_minor": 2
}
